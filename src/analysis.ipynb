{
 "cells": [
  {
   "cell_type": "markdown",
   "id": "3784dd47",
   "metadata": {},
   "source": [
    "# Avaliação do melhor modelo:"
   ]
  },
  {
   "cell_type": "markdown",
   "id": "93e9eb9d",
   "metadata": {},
   "source": [
    "### Imports"
   ]
  },
  {
   "cell_type": "code",
   "execution_count": 5,
   "id": "907370b8",
   "metadata": {},
   "outputs": [],
   "source": [
    "import numpy as np\n",
    "import seaborn as sns\n",
    "import matplotlib.pyplot as plt\n",
    "\n",
    "from sklearn.metrics import (\n",
    "    roc_curve, auc, precision_recall_curve, average_precision_score,\n",
    "    classification_report, confusion_matrix, precision_score, recall_score, f1_score\n",
    ")\n",
    "\n",
    "from tensorflow.keras.models import load_model\n",
    "from tensorflow.keras.preprocessing.image import ImageDataGenerator\n",
    "from tensorflow.keras.preprocessing import image"
   ]
  },
  {
   "cell_type": "markdown",
   "id": "3a46d3bb",
   "metadata": {},
   "source": [
    "## Curvas de aprendizado"
   ]
  },
  {
   "cell_type": "markdown",
   "id": "c4f29f8c",
   "metadata": {},
   "source": [
    "### Curvas de acurácia"
   ]
  },
  {
   "cell_type": "code",
   "execution_count": null,
   "id": "8046c622",
   "metadata": {},
   "outputs": [],
   "source": [
    "# Carrega os históricos salvos\n",
    "all_acc = np.load('all_acc.npy')\n",
    "all_val_acc = np.load('all_val_acc.npy')\n",
    "\n",
    "mean_acc = np.mean(all_acc, axis=0)\n",
    "std_acc = np.std(all_acc, axis=0)\n",
    "mean_val_acc = np.mean(all_val_acc, axis=0)\n",
    "std_val_acc = np.std(all_val_acc, axis=0)\n",
    "epochs = np.arange(1, len(mean_acc)+1)\n",
    "\n",
    "melhor_idx = np.argmax([val_acc[-1] for val_acc in all_val_acc])\n",
    "melhor_acc = all_acc[melhor_idx]\n",
    "melhor_val_acc = all_val_acc[melhor_idx]\n",
    "\n",
    "plt.figure(figsize=(8,5))\n",
    "\n",
    "plt.plot(epochs, mean_acc, label='Treino (média 20x)', color='#1f77b4', linestyle='-', marker='o', linewidth=2, markersize=5)\n",
    "plt.fill_between(epochs, mean_acc-std_acc, mean_acc+std_acc, alpha=0.10, color='#1f77b4')\n",
    "\n",
    "plt.plot(epochs, mean_val_acc, label='Validação (média 20x)', color='#d62728', linestyle='-', marker='s', linewidth=2, markersize=5)\n",
    "plt.fill_between(epochs, mean_val_acc-std_val_acc, mean_val_acc+std_val_acc, alpha=0.10, color='#d62728')\n",
    "\n",
    "plt.plot(epochs, melhor_acc, label='Treino (melhor)', color='#1f77b4', linestyle='--', marker='^', linewidth=2, markersize=6)\n",
    "\n",
    "plt.plot(epochs, melhor_val_acc, label='Validação (melhor)', color='#d62728', linestyle=':', marker='x', linewidth=2, markersize=7)\n",
    "\n",
    "plt.title('Acurácia por Época', fontsize=15)\n",
    "plt.xlabel('Época', fontsize=13)\n",
    "plt.ylabel('Acurácia', fontsize=13)\n",
    "plt.legend(fontsize=11, loc='lower right', frameon=True)\n",
    "plt.grid(alpha=0.25)\n",
    "plt.tight_layout()\n",
    "plt.show()"
   ]
  },
  {
   "cell_type": "markdown",
   "id": "c3acb507",
   "metadata": {},
   "source": [
    "### Curvas de Loss"
   ]
  },
  {
   "cell_type": "code",
   "execution_count": null,
   "id": "b6856d35",
   "metadata": {},
   "outputs": [],
   "source": [
    "# Carrega os históricos salvos\n",
    "all_loss = np.load('all_loss.npy')\n",
    "all_val_loss = np.load('all_val_loss.npy')\n",
    "\n",
    "mean_loss = np.mean(all_loss, axis=0)\n",
    "std_loss = np.std(all_loss, axis=0)\n",
    "mean_val_loss = np.mean(all_val_loss, axis=0)\n",
    "std_val_loss = np.std(all_val_loss, axis=0)\n",
    "epochs = np.arange(1, len(mean_loss)+1)\n",
    "\n",
    "melhor_idx = np.argmin([val_loss[-1] for val_loss in all_val_loss])\n",
    "melhor_loss = all_loss[melhor_idx]\n",
    "melhor_val_loss = all_val_loss[melhor_idx]\n",
    "\n",
    "plt.figure(figsize=(8,5))\n",
    "\n",
    "plt.plot(epochs, mean_loss, label='Treino (média 20x)', color='#2ca02c', linestyle='-', marker='o', linewidth=2, markersize=5)\n",
    "plt.fill_between(epochs, mean_loss-std_loss, mean_loss+std_loss, alpha=0.10, color='#2ca02c')\n",
    "\n",
    "plt.plot(epochs, mean_val_loss, label='Validação (média 20x)', color='#ff7f0e', linestyle='-', marker='s', linewidth=2, markersize=5)\n",
    "plt.fill_between(epochs, mean_val_loss-std_val_loss, mean_val_loss+std_val_loss, alpha=0.10, color='#ff7f0e')\n",
    "\n",
    "plt.plot(epochs, melhor_loss, label='Treino (melhor)', color='#2ca02c', linestyle='--', marker='^', linewidth=2, markersize=6)\n",
    "\n",
    "plt.plot(epochs, melhor_val_loss, label='Validação (melhor)', color='#ff7f0e', linestyle=':', marker='x', linewidth=2, markersize=7)\n",
    "\n",
    "plt.title('Loss por Época', fontsize=15)\n",
    "plt.xlabel('Época', fontsize=13)\n",
    "plt.ylabel('Loss', fontsize=13)\n",
    "plt.legend(fontsize=11, loc='upper right', frameon=True)\n",
    "plt.grid(alpha=0.25)\n",
    "plt.tight_layout()\n",
    "plt.show()"
   ]
  },
  {
   "cell_type": "markdown",
   "id": "10d62bc1",
   "metadata": {},
   "source": [
    "## Gráfico de Curva AUC-ROC"
   ]
  },
  {
   "cell_type": "code",
   "execution_count": null,
   "id": "78f94e40",
   "metadata": {},
   "outputs": [],
   "source": [
    "# Carregar melhor modelo salvo\n",
    "model = load_model('melhor_modelo.h5')\n",
    "\n",
    "\n",
    "test_gen = ImageDataGenerator(rescale=1./255)\n",
    "test_data = test_gen.flow_from_directory(\n",
    "    'dataset2_aumentado/test', target_size=(224,224), batch_size=16, class_mode='binary', shuffle=False\n",
    ")\n",
    "\n",
    "y_true = test_data.classes\n",
    "y_pred_prob = model.predict(test_data).flatten()\n",
    "\n",
    "fpr, tpr, thresholds = roc_curve(y_true, y_pred_prob)\n",
    "roc_auc = auc(fpr, tpr)\n",
    "\n",
    "plt.figure(figsize=(7,6))\n",
    "plt.plot(fpr, tpr, color='#d62728', lw=2, label=f'ROC curve (AUC = {roc_auc:.3f})')\n",
    "plt.plot([0, 1], [0, 1], color='gray', lw=1, linestyle='--')\n",
    "plt.xlabel('Taxa de Falsos Positivos (1 - Especificidade)')\n",
    "plt.ylabel('Taxa de Verdadeiros Positivos (Sensibilidade)')\n",
    "plt.title('Curva ROC do Melhor Modelo')\n",
    "plt.legend(loc='lower right')\n",
    "plt.grid(alpha=0.3)\n",
    "plt.tight_layout()\n",
    "plt.show()"
   ]
  },
  {
   "cell_type": "markdown",
   "id": "14225a38",
   "metadata": {},
   "source": [
    "## Gráfico de Precision-Recall"
   ]
  },
  {
   "cell_type": "code",
   "execution_count": null,
   "id": "84ba14cd",
   "metadata": {},
   "outputs": [],
   "source": [
    "precision, recall, thresholds = precision_recall_curve(y_true, y_pred_prob)\n",
    "ap = average_precision_score(y_true, y_pred_prob)\n",
    "\n",
    "plt.figure(figsize=(7,6))\n",
    "plt.plot(recall, precision, color='black', lw=2, label=f'AP = {ap:.3f}')\n",
    "plt.xlabel('Recall')\n",
    "plt.ylabel('Precisão')\n",
    "plt.title('Curva Precision-Recall do Melhor Modelo')\n",
    "plt.legend(loc='lower left')\n",
    "plt.grid(alpha=0.3)\n",
    "plt.tight_layout()\n",
    "plt.show()"
   ]
  },
  {
   "cell_type": "markdown",
   "id": "dd1b7e69",
   "metadata": {},
   "source": [
    "## Matriz de Confusão melhor modelo"
   ]
  },
  {
   "cell_type": "code",
   "execution_count": null,
   "id": "ffaeee3d",
   "metadata": {},
   "outputs": [],
   "source": [
    "# Threshold padrão 0.5\n",
    "y_pred = (y_pred_prob > 0.5).astype(int)\n",
    "\n",
    "print(\"Classification Report (melhor modelo):\")\n",
    "print(classification_report(y_true, y_pred, target_names=['nao_poluido', 'poluido']))\n",
    "\n",
    "print(\"Matriz de Confusão:\")\n",
    "cm = confusion_matrix(y_true, y_pred)\n",
    "plt.figure(figsize=(5,4))\n",
    "sns.heatmap(cm, annot=True, fmt='d', cmap='Blues', xticklabels=['nao_poluido', 'poluido'], yticklabels=['nao_poluido', 'poluido'])\n",
    "plt.xlabel('Predito')\n",
    "plt.ylabel('Verdadeiro')\n",
    "plt.title('Matriz de Confusão - Melhor Modelo')\n",
    "plt.tight_layout()\n",
    "plt.show()"
   ]
  },
  {
   "cell_type": "markdown",
   "id": "433ae114",
   "metadata": {},
   "source": [
    "## Exibição em casos reais de erros e acertos do modelo:"
   ]
  },
  {
   "cell_type": "code",
   "execution_count": null,
   "id": "4f70e7c0",
   "metadata": {},
   "outputs": [],
   "source": [
    "# Caminhos das imagens do teste\n",
    "filepaths = [test_data.filepaths[i] for i in range(len(test_data.filepaths))]\n",
    "\n",
    "acertos = np.where(y_true == y_pred)[0]\n",
    "erros = np.where(y_true != y_pred)[0]\n",
    "\n",
    "np.random.shuffle(acertos)\n",
    "np.random.shuffle(erros)\n",
    "\n",
    "def plot_examples(indices, title, n=4):\n",
    "    plt.figure(figsize=(12,3))\n",
    "    for i, idx in enumerate(indices[:n]):\n",
    "        img = image.load_img(filepaths[idx], target_size=(128,128))\n",
    "        plt.subplot(1, n, i+1)\n",
    "        plt.imshow(img)\n",
    "        plt.axis('off')\n",
    "        plt.title(f\"V: {y_true[idx]}, P: {y_pred[idx]}\")\n",
    "    plt.suptitle(title)\n",
    "    plt.tight_layout()\n",
    "    plt.show()\n",
    "\n",
    "plot_examples(acertos, \"Exemplos de Acertos\", n=4)\n",
    "\n",
    "plot_examples(erros, \"Exemplos de Erros\", n=4)"
   ]
  },
  {
   "cell_type": "markdown",
   "id": "f6dda481",
   "metadata": {},
   "source": [
    "## Matriz de confusão e análise de métricas para diferentes thresholds"
   ]
  },
  {
   "cell_type": "code",
   "execution_count": null,
   "id": "04cd132e",
   "metadata": {},
   "outputs": [],
   "source": [
    "thresholds_to_test = [0.3, 0.5, 0.7, 0.9]\n",
    "\n",
    "precision_list = []\n",
    "recall_list = []\n",
    "f1_list = []\n",
    "\n",
    "print(\"Análise para diferentes thresholds:\\n\")\n",
    "\n",
    "for thresh in thresholds_to_test:\n",
    "    y_pred_thresh = (y_pred_prob > thresh).astype(int)\n",
    "    \n",
    "    precision = precision_score(y_true, y_pred_thresh)\n",
    "    recall = recall_score(y_true, y_pred_thresh)\n",
    "    f1 = f1_score(y_true, y_pred_thresh)\n",
    "\n",
    "    precision_list.append(precision)\n",
    "    recall_list.append(recall)\n",
    "    f1_list.append(f1)\n",
    "\n",
    "    cm = confusion_matrix(y_true, y_pred_thresh)\n",
    "    \n",
    "    print(f\"Threshold = {thresh:.2f}\")\n",
    "    print(f\"Precision: {precision:.3f} | Recall: {recall:.3f} | F1-Score: {f1:.3f}\")\n",
    "    print(\"Matriz de Confusão:\")\n",
    "    print(cm)\n",
    "    print(\"-\"*50)\n",
    "\n",
    "    plt.figure(figsize=(4.5,4))\n",
    "    sns.heatmap(cm, annot=True, fmt='d', cmap='Blues', \n",
    "                xticklabels=['não poluído', 'poluído'], \n",
    "                yticklabels=['não poluído', 'poluído'])\n",
    "    plt.title(f'Matriz de Confusão (Threshold={thresh:.2f})')\n",
    "    plt.xlabel('Predito')\n",
    "    plt.ylabel('Verdadeiro')\n",
    "    plt.tight_layout()\n",
    "    plt.show()\n",
    "\n",
    "# Plot das métricas em função do threshold\n",
    "plt.figure(figsize=(8,5))\n",
    "plt.plot(thresholds_to_test, precision_list, marker='o', label='Precision')\n",
    "plt.plot(thresholds_to_test, recall_list, marker='o', label='Recall')\n",
    "plt.plot(thresholds_to_test, f1_list, marker='o', label='F1-Score')\n",
    "plt.xlabel('Threshold')\n",
    "plt.ylabel('Valor da métrica')\n",
    "plt.title('Variação das Métricas com o Threshold')\n",
    "plt.grid(True, linestyle='--', alpha=0.5)\n",
    "plt.legend()\n",
    "plt.tight_layout()\n",
    "plt.show()"
   ]
  },
  {
   "cell_type": "markdown",
   "id": "bb99d5aa",
   "metadata": {},
   "source": [
    "# Matriz de Confusão média das 20 execuções"
   ]
  },
  {
   "cell_type": "code",
   "execution_count": null,
   "id": "dfe76e9e",
   "metadata": {},
   "outputs": [],
   "source": [
    "conf_matrices = np.load('all_conf_matrices.npy')  # shape: (20, 2, 2)\n",
    "\n",
    "mean_cm = np.mean(conf_matrices, axis=0)\n",
    "\n",
    "class_labels = ['nao_poluido', 'poluido']\n",
    "\n",
    "plt.figure(figsize=(6, 5))\n",
    "sns.heatmap(mean_cm, annot=True, fmt='.2f', cmap='Blues', xticklabels=class_labels, yticklabels=class_labels)\n",
    "plt.xlabel('Predito')\n",
    "plt.ylabel('Verdadeiro')\n",
    "plt.title('Matriz de Confusão Média (20 execuções)')\n",
    "plt.show()"
   ]
  }
 ],
 "metadata": {
  "kernelspec": {
   "display_name": "RiosPoluidos",
   "language": "python",
   "name": "python3"
  },
  "language_info": {
   "codemirror_mode": {
    "name": "ipython",
    "version": 3
   },
   "file_extension": ".py",
   "mimetype": "text/x-python",
   "name": "python",
   "nbconvert_exporter": "python",
   "pygments_lexer": "ipython3",
   "version": "3.11.11"
  }
 },
 "nbformat": 4,
 "nbformat_minor": 5
}
